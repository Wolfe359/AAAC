{
 "cells": [
  {
   "cell_type": "markdown",
   "metadata": {},
   "source": [
    "# IMPORTS:"
   ]
  },
  {
   "cell_type": "code",
   "execution_count": 1,
   "metadata": {},
   "outputs": [],
   "source": [
    "import numpy as np\n",
    "import random\n",
    "from matplotlib import pyplot as plt\n"
   ]
  },
  {
   "cell_type": "markdown",
   "metadata": {},
   "source": [
    "# Construct Shape, Weights, and Biases"
   ]
  },
  {
   "cell_type": "code",
   "execution_count": 2,
   "metadata": {},
   "outputs": [],
   "source": [
    "def network_build(inp, o_count):\n",
    "    weights = np.array([[]])\n",
    "    #weights\n",
    "    for ip in range(inp):\n",
    "        w = np.array([])\n",
    "        for i in range(o_count):\n",
    "            a = np.array([np.random.normal()])\n",
    "            w= np.hstack((w,a)) \n",
    "        if ip == 0:\n",
    "            weights = w\n",
    "        else:\n",
    "            weights = np.vstack((weights, w))\n",
    "    weights = weights\n",
    "    print(weights)\n",
    "    print(weights.shape)\n",
    "    #biases\n",
    "    biases = np.array([])\n",
    "    for i in range(o_count):\n",
    "        a = np.array([np.random.normal()])\n",
    "        if i ==0:\n",
    "            biases = a\n",
    "        else:\n",
    "            biases = np.hstack((biases, a))\n",
    "    biases = biases\n",
    "    print(biases)\n",
    "    print(biases.shape)\n",
    "    return weights, biases"
   ]
  },
  {
   "cell_type": "markdown",
   "metadata": {},
   "source": [
    "# Inputs"
   ]
  },
  {
   "cell_type": "code",
   "execution_count": null,
   "metadata": {},
   "outputs": [],
   "source": []
  },
  {
   "cell_type": "code",
   "execution_count": null,
   "metadata": {},
   "outputs": [],
   "source": []
  },
  {
   "cell_type": "code",
   "execution_count": null,
   "metadata": {},
   "outputs": [],
   "source": []
  },
  {
   "cell_type": "code",
   "execution_count": null,
   "metadata": {},
   "outputs": [],
   "source": []
  },
  {
   "cell_type": "code",
   "execution_count": null,
   "metadata": {},
   "outputs": [],
   "source": []
  },
  {
   "cell_type": "code",
   "execution_count": 3,
   "metadata": {},
   "outputs": [],
   "source": [
    "#inputs=np.array([[3,1.5],[2,1],[4,1.5],[3.5,.5],[3,1],[2,.5],[5.5,1],[1,1]])\n",
    "#correct_output = np.array([[1],[0],[1],[1],[0],[0],[1],[0]])\n",
    "\n",
    "inputs = np.array([[1,1,1],\n",
    "                   [0,1,1],\n",
    "                   [1,0,1],\n",
    "                   [0,0,0],\n",
    "                   [1,0,0],\n",
    "                   [0,1,0]])\n",
    "correct_output = np.array([[1, 1],\n",
    "                           [0, 1],\n",
    "                           [1, 0],\n",
    "                           [0, 0],\n",
    "                           [1, 0],\n",
    "                           [0, 1]])\n",
    "                           "
   ]
  },
  {
   "cell_type": "markdown",
   "metadata": {},
   "source": [
    "# Load Given the Shape"
   ]
  },
  {
   "cell_type": "code",
   "execution_count": 4,
   "metadata": {},
   "outputs": [
    {
     "name": "stdout",
     "output_type": "stream",
     "text": [
      "[[ 0.56569189 -0.64766406 -0.69439242]\n",
      " [-0.4538502  -2.47302478  1.35190307]\n",
      " [ 0.2129138  -0.44916502  0.06333798]]\n",
      "(3, 3)\n",
      "[-0.39742439  0.15162757 -0.33814812]\n",
      "(3,)\n"
     ]
    }
   ],
   "source": [
    "try:\n",
    "    weights, biases = network_build(len(inputs[0]),3)\n",
    "except:\n",
    "    weights, biases = network_build(len(inputs[0]),1)"
   ]
  },
  {
   "cell_type": "markdown",
   "metadata": {},
   "source": [
    "# H layer Attempt"
   ]
  },
  {
   "cell_type": "code",
   "execution_count": 5,
   "metadata": {},
   "outputs": [
    {
     "name": "stdout",
     "output_type": "stream",
     "text": [
      "[[ 1.19470083 -0.72964051]\n",
      " [-0.83635425  0.98311738]\n",
      " [ 1.37280892 -1.61813743]]\n",
      "(3, 2)\n",
      "[-0.17147725 -0.83820256]\n",
      "(2,)\n"
     ]
    }
   ],
   "source": [
    "weights_h, biases_h = network_build(3,2)"
   ]
  },
  {
   "cell_type": "markdown",
   "metadata": {},
   "source": [
    "# Predictions, Calculations, and Foundation Formulas"
   ]
  },
  {
   "cell_type": "code",
   "execution_count": 6,
   "metadata": {},
   "outputs": [],
   "source": [
    "def cost(output, c_o):\n",
    "    cost = np.square(c_o-output)\n",
    "    return cost\n",
    "def sigmoid(x):\n",
    "    return 1 / (1 + np.exp(-x))\n",
    "def sigmoid_derivative(x):\n",
    "    return x * (1 - x)\n",
    "def prediction_t(weights, biases,inputs):\n",
    "    output = np.add(inputs.dot(weights), biases)\n",
    "    return sigmoid(output)"
   ]
  },
  {
   "cell_type": "markdown",
   "metadata": {},
   "source": [
    "# TRAINING!!!"
   ]
  },
  {
   "cell_type": "code",
   "execution_count": 7,
   "metadata": {},
   "outputs": [],
   "source": [
    "learning_rate = .05\n",
    "costs = []\n",
    "iterations = 20000\n",
    "def pokemon_Trainer(weights, biases, iterations):\n",
    "    global inputs, correct_output, learning_rate, costs\n",
    "    place = 0\n",
    "    for i in range(iterations):\n",
    "        print(i)\n",
    "        inp = inputs[place]\n",
    "        c_o = correct_output[place]\n",
    "        place += 1\n",
    "        if place == len(inputs[0]):\n",
    "            place = 0\n",
    "        output = prediction_t(weights, biases, inp)\n",
    "        error = c_o - output\n",
    "        costs.append(cost(output, c_o))\n",
    "        weights+=np.outer(inp,sigmoid_derivative(output))*learning_rate*2*error\n",
    "        biases+=learning_rate * 2 * error * sigmoid_derivative(output)\n",
    "    return weights,biases, "
   ]
  },
  {
   "cell_type": "code",
   "execution_count": 8,
   "metadata": {
    "scrolled": true
   },
   "outputs": [
    {
     "name": "stdout",
     "output_type": "stream",
     "text": [
      "0\n"
     ]
    },
    {
     "ename": "UnboundLocalError",
     "evalue": "local variable 'weights_h' referenced before assignment",
     "output_type": "error",
     "traceback": [
      "\u001b[1;31m---------------------------------------------------------------------------\u001b[0m",
      "\u001b[1;31mUnboundLocalError\u001b[0m                         Traceback (most recent call last)",
      "\u001b[1;32m<ipython-input-8-c3fa04c29179>\u001b[0m in \u001b[0;36m<module>\u001b[1;34m\u001b[0m\n\u001b[1;32m----> 1\u001b[1;33m \u001b[0mweights\u001b[0m\u001b[1;33m,\u001b[0m \u001b[0mbiases\u001b[0m \u001b[1;33m=\u001b[0m \u001b[0mpokemon_Trainer\u001b[0m\u001b[1;33m(\u001b[0m\u001b[0mweights\u001b[0m\u001b[1;33m,\u001b[0m\u001b[0mbiases\u001b[0m\u001b[1;33m,\u001b[0m\u001b[0miterations\u001b[0m\u001b[1;33m)\u001b[0m\u001b[1;33m\u001b[0m\u001b[1;33m\u001b[0m\u001b[0m\n\u001b[0m",
      "\u001b[1;32m<ipython-input-7-08e42804bf63>\u001b[0m in \u001b[0;36mpokemon_Trainer\u001b[1;34m(weights, biases, iterations)\u001b[0m\n\u001b[0;32m     13\u001b[0m             \u001b[0mplace\u001b[0m \u001b[1;33m=\u001b[0m \u001b[1;36m0\u001b[0m\u001b[1;33m\u001b[0m\u001b[1;33m\u001b[0m\u001b[0m\n\u001b[0;32m     14\u001b[0m         \u001b[0mpred_1\u001b[0m \u001b[1;33m=\u001b[0m \u001b[0mprediction_t\u001b[0m\u001b[1;33m(\u001b[0m\u001b[0mweights\u001b[0m\u001b[1;33m,\u001b[0m \u001b[0mbiases\u001b[0m\u001b[1;33m,\u001b[0m \u001b[0minp\u001b[0m\u001b[1;33m)\u001b[0m\u001b[1;33m\u001b[0m\u001b[1;33m\u001b[0m\u001b[0m\n\u001b[1;32m---> 15\u001b[1;33m         \u001b[0moutput\u001b[0m \u001b[1;33m=\u001b[0m \u001b[0mprediction_t\u001b[0m\u001b[1;33m(\u001b[0m\u001b[0mweights_h\u001b[0m\u001b[1;33m,\u001b[0m \u001b[0mbiases_h\u001b[0m\u001b[1;33m,\u001b[0m \u001b[0mpred_1\u001b[0m\u001b[1;33m)\u001b[0m\u001b[1;33m\u001b[0m\u001b[1;33m\u001b[0m\u001b[0m\n\u001b[0m\u001b[0;32m     16\u001b[0m         \u001b[0merror\u001b[0m \u001b[1;33m=\u001b[0m \u001b[0mc_o\u001b[0m \u001b[1;33m-\u001b[0m \u001b[0moutput\u001b[0m\u001b[1;33m\u001b[0m\u001b[1;33m\u001b[0m\u001b[0m\n\u001b[0;32m     17\u001b[0m         \u001b[0mcosts\u001b[0m\u001b[1;33m.\u001b[0m\u001b[0mappend\u001b[0m\u001b[1;33m(\u001b[0m\u001b[0mcost\u001b[0m\u001b[1;33m(\u001b[0m\u001b[0moutput\u001b[0m\u001b[1;33m,\u001b[0m \u001b[0mc_o\u001b[0m\u001b[1;33m)\u001b[0m\u001b[1;33m)\u001b[0m\u001b[1;33m\u001b[0m\u001b[1;33m\u001b[0m\u001b[0m\n",
      "\u001b[1;31mUnboundLocalError\u001b[0m: local variable 'weights_h' referenced before assignment"
     ]
    }
   ],
   "source": [
    "weights, biases = pokemon_Trainer(weights,biases, iterations)"
   ]
  },
  {
   "cell_type": "code",
   "execution_count": null,
   "metadata": {},
   "outputs": [],
   "source": []
  },
  {
   "cell_type": "code",
   "execution_count": null,
   "metadata": {},
   "outputs": [],
   "source": []
  },
  {
   "cell_type": "code",
   "execution_count": null,
   "metadata": {},
   "outputs": [],
   "source": []
  },
  {
   "cell_type": "code",
   "execution_count": null,
   "metadata": {},
   "outputs": [],
   "source": []
  },
  {
   "cell_type": "code",
   "execution_count": 13,
   "metadata": {},
   "outputs": [
    {
     "name": "stdout",
     "output_type": "stream",
     "text": [
      "Synaptic weights after training: \n",
      "[[ 6.4566725  -1.58788862]\n",
      " [-0.82847642  6.24875155]\n",
      " [-1.60333199 -2.26077331]]\n",
      "Input 1: 1\n",
      "Input 2: 1\n",
      "Input 3: 1\n",
      "New situation: input data =  1.0 1.0 1.0\n",
      "[[0.96465631 0.95987752]]\n"
     ]
    },
    {
     "data": {
      "image/png": "[encoded data removed]",
      "text/plain": [
       "<Figure size 432x288 with 1 Axes>"
      ]
     },
     "metadata": {
      "needs_background": "light"
     },
     "output_type": "display_data"
    },
    {
     "data": {
      "image/png": "[encoded data removed]",
      "text/plain": [
       "<Figure size 432x288 with 1 Axes>"
      ]
     },
     "metadata": {
      "needs_background": "light"
     },
     "output_type": "display_data"
    }
   ],
   "source": [
    "print(\"Synaptic weights after training: \")\n",
    "print(weights)\n",
    "A = float(input(\"Input 1: \"))\n",
    "B = float(input(\"Input 2: \"))\n",
    "C = float(input(\"Input 3: \"))\n",
    "\n",
    "print(\"New situation: input data = \", A, B, C)\n",
    "#print(\"New situation: input data = \", A, B)\n",
    "#print(\"Output data: \")\n",
    "new_data = np.array([[A,B,C]])\n",
    "#new_data = np.array([[A,B]])\n",
    "fp = prediction_t(weights, biases, new_data)\n",
    "print(fp)\n",
    "plt.figure(1)\n",
    "plt.subplot(211)\n",
    "plt.plot(costs)\n",
    "plt.axis([0, iterations, 0, 2.5])\n",
    "plt.show()\n",
    "plt.subplot(212)\n",
    "plt.show()"
   ]
  },
  {
   "cell_type": "code",
   "execution_count": null,
   "metadata": {},
   "outputs": [],
   "source": [
    "https://mlforanalytics.com/2018/05/08/multi-layer-perceptron-using-python/"
   ]
  },
  {
   "cell_type": "code",
   "execution_count": null,
   "metadata": {},
   "outputs": [],
   "source": []
  },
  {
   "cell_type": "code",
   "execution_count": 9,
   "metadata": {},
   "outputs": [],
   "source": []
  },
  {
   "cell_type": "code",
   "execution_count": 14,
   "metadata": {},
   "outputs": [
    {
     "data": {
      "text/plain": [
       "[1, 3, 5, 7, 9]"
      ]
     },
     "execution_count": 14,
     "metadata": {},
     "output_type": "execute_result"
    }
   ],
   "source": []
  },
  {
   "cell_type": "code",
   "execution_count": null,
   "metadata": {},
   "outputs": [],
   "source": []
  }
 ],
 "metadata": {
  "kernelspec": {
   "display_name": "Python 3",
   "language": "python",
   "name": "python3"
  },
  "language_info": {
   "codemirror_mode": {
    "name": "ipython",
    "version": 3
   },
   "file_extension": ".py",
   "mimetype": "text/x-python",
   "name": "python",
   "nbconvert_exporter": "python",
   "pygments_lexer": "ipython3",
   "version": "3.7.3"
  },
  "toc": {
   "base_numbering": 1,
   "nav_menu": {},
   "number_sections": true,
   "sideBar": true,
   "skip_h1_title": false,
   "title_cell": "Table of Contents",
   "title_sidebar": "Contents",
   "toc_cell": false,
   "toc_position": {},
   "toc_section_display": true,
   "toc_window_display": false
  }
 },
 "nbformat": 4,
 "nbformat_minor": 2
}
